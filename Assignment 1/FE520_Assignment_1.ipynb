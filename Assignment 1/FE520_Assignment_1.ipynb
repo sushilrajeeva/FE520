{
  "cells": [
    {
      "cell_type": "markdown",
      "metadata": {
        "id": "view-in-github",
        "colab_type": "text"
      },
      "source": [
        "<a href=\"https://colab.research.google.com/github/sushilrajeeva/FE520/blob/main/FE520_Assignment_1.ipynb\" target=\"_parent\"><img src=\"https://colab.research.google.com/assets/colab-badge.svg\" alt=\"Open In Colab\"/></a>"
      ]
    },
    {
      "cell_type": "markdown",
      "source": [
        "# Name: Sushil Rajeeva Bhandary\n",
        "## CWID: 20015528\n",
        "### FE520 Assignment 1"
      ],
      "metadata": {
        "id": "D4WOCb4LrR6Y"
      }
    },
    {
      "cell_type": "markdown",
      "metadata": {
        "toc": true,
        "id": "wVCB5wkTO4TB"
      },
      "source": [
        "<h1>Table of Contents<span class=\"tocSkip\"></span></h1>\n",
        "<div class=\"toc\"><ul class=\"toc-item\"><li><span><a href=\"#Practise-String-Literal\" data-toc-modified-id=\"Practise-String-Literal-1\"><span class=\"toc-item-num\">1&nbsp;&nbsp;</span>Practise String Literal</a></span><ul class=\"toc-item\"><li><span><a href=\"#Write-a-program-that-prints-the-following-talking:\" data-toc-modified-id=\"Write-a-program-that-prints-the-following-talking:-1.1\"><span class=\"toc-item-num\">1.1&nbsp;&nbsp;</span>Write a program that prints the following talking:</a></span></li><li><span><a href=\"#Write-a-Python-program-to-print-the-following-string-in-a-specific-format:\" data-toc-modified-id=\"Write-a-Python-program-to-print-the-following-string-in-a-specific-format:-1.2\"><span class=\"toc-item-num\">1.2&nbsp;&nbsp;</span>Write a Python program to print the following string in a specific format:</a></span></li><li><span><a href=\"#print-the-following-table:\" data-toc-modified-id=\"print-the-following-table:-1.3\"><span class=\"toc-item-num\">1.3&nbsp;&nbsp;</span>print the following table:</a></span></li><li><span><a href=\"#print-the-following-file-path:\" data-toc-modified-id=\"print-the-following-file-path:-1.4\"><span class=\"toc-item-num\">1.4&nbsp;&nbsp;</span>print the following file path:</a></span></li></ul></li><li><span><a href=\"#Practise-Sequence-Operation-And-String-Method\" data-toc-modified-id=\"Practise-Sequence-Operation-And-String-Method-2\"><span class=\"toc-item-num\">2&nbsp;&nbsp;</span>Practise Sequence Operation And String Method</a></span><ul class=\"toc-item\"><li><span><a href=\"#Given-the-string-s-=-&quot;PythonProgramming&quot;,-extract-and-print-the-first-6-characters.\" data-toc-modified-id=\"Given-the-string-s-=-&quot;PythonProgramming&quot;,-extract-and-print-the-first-6-characters.-2.1\"><span class=\"toc-item-num\">2.1&nbsp;&nbsp;</span>Given the string s = \"PythonProgramming\", extract and print the first 6 characters.</a></span></li><li><span><a href=\"#For-the-string-s-=-&quot;PythonProgramming&quot;,-create-a-new-string-where-the-first-and-last-characters-have-been-exchanged.\" data-toc-modified-id=\"For-the-string-s-=-&quot;PythonProgramming&quot;,-create-a-new-string-where-the-first-and-last-characters-have-been-exchanged.-2.2\"><span class=\"toc-item-num\">2.2&nbsp;&nbsp;</span>For the string s = \"PythonProgramming\", create a new string where the first and last characters have been exchanged.</a></span></li><li><span><a href=\"#For-the-string-s-=-&quot;PythonProgramming&quot;,-find-and-print-the-index-of-the-first-occurrence-of-the-letter-&quot;o&quot;.\" data-toc-modified-id=\"For-the-string-s-=-&quot;PythonProgramming&quot;,-find-and-print-the-index-of-the-first-occurrence-of-the-letter-&quot;o&quot;.-2.3\"><span class=\"toc-item-num\">2.3&nbsp;&nbsp;</span>For the string s = \"PythonProgramming\", find and print the index of the first occurrence of the letter \"o\".</a></span></li><li><span><a href=\"#Given-the-string-s-=-&quot;PythonProgramming&quot;,-create-a-new-string-where-all-occurrences-of-the-letter-&quot;o&quot;-are-replaced-with-the-letter-&quot;a&quot;.\" data-toc-modified-id=\"Given-the-string-s-=-&quot;PythonProgramming&quot;,-create-a-new-string-where-all-occurrences-of-the-letter-&quot;o&quot;-are-replaced-with-the-letter-&quot;a&quot;.-2.4\"><span class=\"toc-item-num\">2.4&nbsp;&nbsp;</span>Given the string s = \"PythonProgramming\", create a new string where all occurrences of the letter \"o\" are replaced with the letter \"a\".</a></span></li><li><span><a href=\"#For-the-string-s-=-&quot;PythonProgramming&quot;,-split-the-string-into-two-equal-halves.-If-the-string-has-an-odd-length,-the-first-half-should-have-one-more-character-than-the-second-half.\" data-toc-modified-id=\"For-the-string-s-=-&quot;PythonProgramming&quot;,-split-the-string-into-two-equal-halves.-If-the-string-has-an-odd-length,-the-first-half-should-have-one-more-character-than-the-second-half.-2.5\"><span class=\"toc-item-num\">2.5&nbsp;&nbsp;</span>For the string s = \"PythonProgramming\", split the string into two equal halves. If the string has an odd length, the first half should have one more character than the second half.</a></span></li><li><span><a href=\"#Given-the-string-s-=-&quot;Python&quot;,-t-=-&quot;lool&quot;,-check-if-the-string-is-a-palindrome.-A-palindrome-is-a-word,-phrase,-number,-or-other-sequences-of-characters-that-reads-the-same-forward-and-backward-(ignoring-spaces,-punctuation,-and-capitalization).\" data-toc-modified-id=\"Given-the-string-s-=-&quot;Python&quot;,-t-=-&quot;lool&quot;,-check-if-the-string-is-a-palindrome.-A-palindrome-is-a-word,-phrase,-number,-or-other-sequences-of-characters-that-reads-the-same-forward-and-backward-(ignoring-spaces,-punctuation,-and-capitalization).-2.6\"><span class=\"toc-item-num\">2.6&nbsp;&nbsp;</span>Given the string s = \"Python\", t = \"lool\", check if the string is a palindrome. A palindrome is a word, phrase, number, or other sequences of characters that reads the same forward and backward (ignoring spaces, punctuation, and capitalization).</a></span></li></ul></li><li><span><a href=\"#Practise-Number\" data-toc-modified-id=\"Practise-Number-3\"><span class=\"toc-item-num\">3&nbsp;&nbsp;</span>Practise Number</a></span><ul class=\"toc-item\"><li><span><a href=\"#Given-two-numbers-a-=-25-and-b-=-7,-write-a-program-to-find-the-quotient-and-remainder-when-a-is-divided-by-b.\" data-toc-modified-id=\"Given-two-numbers-a-=-25-and-b-=-7,-write-a-program-to-find-the-quotient-and-remainder-when-a-is-divided-by-b.-3.1\"><span class=\"toc-item-num\">3.1&nbsp;&nbsp;</span>Given two numbers a = 25 and b = 7, write a program to find the quotient and remainder when a is divided by b.</a></span></li><li><span><a href=\"#Check-if-a-number-n1-=-123,-n2-=-122-are-even-or-odd.\" data-toc-modified-id=\"Check-if-a-number-n1-=-123,-n2-=-122-are-even-or-odd.-3.2\"><span class=\"toc-item-num\">3.2&nbsp;&nbsp;</span>Check if a number n1 = 123, n2 = 122 are even or odd.</a></span></li><li><span><a href=\"#Given-a-number-n-=-4567,-find-the-last-two-digits-of-the-number\" data-toc-modified-id=\"Given-a-number-n-=-4567,-find-the-last-two-digits-of-the-number-3.3\"><span class=\"toc-item-num\">3.3&nbsp;&nbsp;</span>Given a number n = 4567, find the last two digits of the number</a></span></li></ul></li><li><span><a href=\"#Practise-Formatting\" data-toc-modified-id=\"Practise-Formatting-4\"><span class=\"toc-item-num\">4&nbsp;&nbsp;</span>Practise Formatting</a></span><ul class=\"toc-item\"><li><span><a href=\"#Given-two-variables-name-=-&quot;Alice&quot;-and-age-=-30,-use-an-f-string-to-print-the-following-message:-&quot;Hello,-my-name-is-Alice-and-I-am-30-years-old.&quot;\" data-toc-modified-id=\"Given-two-variables-name-=-&quot;Alice&quot;-and-age-=-30,-use-an-f-string-to-print-the-following-message:-&quot;Hello,-my-name-is-Alice-and-I-am-30-years-old.&quot;-4.1\"><span class=\"toc-item-num\">4.1&nbsp;&nbsp;</span>Given two variables name = \"Alice\" and age = 30, use an f-string to print the following message: \"Hello, my name is Alice and I am 30 years old.\"</a></span></li><li><span><a href=\"#Given-two-variables-hours-=-5-and-rate-=-20,-use-an-f-string-to-calculate-and-print-the-total-pay.-The-message-should-be:-&quot;For-5-hours-of-work-at-$20-per-hour,-you-will-earn-$100.&quot;\" data-toc-modified-id=\"Given-two-variables-hours-=-5-and-rate-=-20,-use-an-f-string-to-calculate-and-print-the-total-pay.-The-message-should-be:-&quot;For-5-hours-of-work-at-$20-per-hour,-you-will-earn-$100.&quot;-4.2\"><span class=\"toc-item-num\">4.2&nbsp;&nbsp;</span>Given two variables hours = 5 and rate = 20, use an f-string to calculate and print the total pay. The message should be: \"For 5 hours of work at $20 per hour, you will earn $100.\"</a></span></li></ul></li><li><span><a href=\"#Practise-List\" data-toc-modified-id=\"Practise-List-5\"><span class=\"toc-item-num\">5&nbsp;&nbsp;</span>Practise List</a></span><ul class=\"toc-item\"><li><span><a href=\"#Given-a-list-fruits-=-[&quot;apple&quot;,-&quot;banana&quot;,-&quot;cherry&quot;],-add-the-fruit-&quot;orange&quot;-to-the-end-of-the-list.\" data-toc-modified-id=\"Given-a-list-fruits-=-[&quot;apple&quot;,-&quot;banana&quot;,-&quot;cherry&quot;],-add-the-fruit-&quot;orange&quot;-to-the-end-of-the-list.-5.1\"><span class=\"toc-item-num\">5.1&nbsp;&nbsp;</span>Given a list fruits = [\"apple\", \"banana\", \"cherry\"], add the fruit \"orange\" to the end of the list.</a></span></li><li><span><a href=\"#Given-a-list-colors-=-[&quot;red&quot;,-&quot;blue&quot;,-&quot;green&quot;],-insert-the-color-&quot;yellow&quot;-at-the-second-position.\" data-toc-modified-id=\"Given-a-list-colors-=-[&quot;red&quot;,-&quot;blue&quot;,-&quot;green&quot;],-insert-the-color-&quot;yellow&quot;-at-the-second-position.-5.2\"><span class=\"toc-item-num\">5.2&nbsp;&nbsp;</span>Given a list colors = [\"red\", \"blue\", \"green\"], insert the color \"yellow\" at the second position.</a></span></li><li><span><a href=\"#Given-a-list-items-=-[10,-20,-30,-40,-50],-remove-the-third-item-from-the-list.\" data-toc-modified-id=\"Given-a-list-items-=-[10,-20,-30,-40,-50],-remove-the-third-item-from-the-list.-5.3\"><span class=\"toc-item-num\">5.3&nbsp;&nbsp;</span>Given a list items = [10, 20, 30, 40, 50], remove the third item from the list.</a></span></li><li><span><a href=\"#remove-empty-strings-from-the-list-of-strings.\" data-toc-modified-id=\"remove-empty-strings-from-the-list-of-strings.-5.4\"><span class=\"toc-item-num\">5.4&nbsp;&nbsp;</span>remove empty strings from the list of strings.</a></span></li><li><span><a href=\"#add-new-item-to-list-after-a-specified-item\" data-toc-modified-id=\"add-new-item-to-list-after-a-specified-item-5.5\"><span class=\"toc-item-num\">5.5&nbsp;&nbsp;</span>add new item to list after a specified item</a></span></li><li><span><a href=\"#List-copy\" data-toc-modified-id=\"List-copy-5.6\"><span class=\"toc-item-num\">5.6&nbsp;&nbsp;</span>List copy</a></span></li><li><span><a href=\"#List-copy\" data-toc-modified-id=\"List-copy-5.7\"><span class=\"toc-item-num\">5.7&nbsp;&nbsp;</span>List copy</a></span></li></ul></li></ul></div>"
      ]
    },
    {
      "cell_type": "markdown",
      "metadata": {
        "id": "mrwW0e10O4TE"
      },
      "source": [
        "# Practise String Literal"
      ]
    },
    {
      "cell_type": "markdown",
      "metadata": {
        "id": "VOtYkAJRO4TE"
      },
      "source": [
        "## Write a program that prints the following talking:\n",
        "  \"Hello,\" she said. \\\n",
        "  He replied, \"What's up?\""
      ]
    },
    {
      "cell_type": "code",
      "execution_count": null,
      "metadata": {
        "colab": {
          "base_uri": "https://localhost:8080/"
        },
        "id": "9dE5GjbVO4TE",
        "outputId": "81d016cc-a515-4f76-88e1-2a93afe60a7b"
      },
      "outputs": [
        {
          "output_type": "stream",
          "name": "stdout",
          "text": [
            "\"Hello,\" she said.\n",
            "He replied, \"What's up?\"\n"
          ]
        }
      ],
      "source": [
        "print('''\"Hello,\" she said.\n",
        "He replied, \"What's up?\"''')"
      ]
    },
    {
      "cell_type": "markdown",
      "metadata": {
        "id": "nogdRZL0O4TF"
      },
      "source": [
        "## Write a Python program to print the following string in a specific format:\n",
        "    Twinkle, twinkle, little star,\n",
        "        How I wonder what you are!\n",
        "            Up above the world so high,\n",
        "            Like a diamond in the sky.\n",
        "    Twinkle, twinkle, little star,\n",
        "        How I wonder what you are!"
      ]
    },
    {
      "cell_type": "code",
      "execution_count": null,
      "metadata": {
        "colab": {
          "base_uri": "https://localhost:8080/"
        },
        "id": "RTy-5zy-O4TF",
        "outputId": "967dd0bf-7a26-44c1-d3f8-c4857852b76e"
      },
      "outputs": [
        {
          "output_type": "stream",
          "name": "stdout",
          "text": [
            "Twinkle, twinkle, little star,\n",
            "\tHow I wonder what you are!\n",
            "\t\tUp above the world so high,\n",
            "\t\tLike a diamond in the sky.\n",
            "Twinkle, twinkle, little star,\n",
            "\tHow I wonder what you are!\n"
          ]
        }
      ],
      "source": [
        "print('''Twinkle, twinkle, little star,\n",
        "\tHow I wonder what you are!\n",
        "\t\tUp above the world so high,\n",
        "\t\tLike a diamond in the sky.\n",
        "Twinkle, twinkle, little star,\n",
        "\tHow I wonder what you are!''')"
      ]
    },
    {
      "cell_type": "markdown",
      "metadata": {
        "id": "QMPvnuz-O4TF"
      },
      "source": [
        "## print the following table:\n",
        "  Name  &nbsp;   Age  &nbsp;   Occupation \\\n",
        "  ------------------------- \\\n",
        "  Alice  &nbsp; &nbsp; 28  &nbsp;&nbsp;&nbsp;    Engineer \\\n",
        "  Bob  &nbsp;&nbsp;&nbsp;&nbsp; 34   &nbsp;&nbsp;&nbsp; Doctor \\\n",
        "  (note that there is empty space between each word)"
      ]
    },
    {
      "cell_type": "code",
      "execution_count": null,
      "metadata": {
        "colab": {
          "base_uri": "https://localhost:8080/"
        },
        "id": "Tw0mvKAEO4TF",
        "outputId": "e626f2c1-1c08-4081-db8a-3ba705c2ebc2"
      },
      "outputs": [
        {
          "output_type": "stream",
          "name": "stdout",
          "text": [
            "Name\tAge\tOccupation\n",
            "-------------------------\n",
            "Alice\t28\tEngineer\n",
            "Bob\t34\tDoctor\n"
          ]
        }
      ],
      "source": [
        "print('''Name\tAge\tOccupation\n",
        "-------------------------\n",
        "Alice\t28\tEngineer\n",
        "Bob\t34\tDoctor''')"
      ]
    },
    {
      "cell_type": "markdown",
      "metadata": {
        "id": "3XnSpuz3O4TF"
      },
      "source": [
        "## print the following file path:\n",
        "  C:\\Users\\John\\Documents\\file.txt"
      ]
    },
    {
      "cell_type": "code",
      "execution_count": null,
      "metadata": {
        "colab": {
          "base_uri": "https://localhost:8080/"
        },
        "id": "ePkKuwILO4TF",
        "outputId": "6cade15d-3bd3-4dd4-d31e-be2730b49f13"
      },
      "outputs": [
        {
          "output_type": "stream",
          "name": "stdout",
          "text": [
            "C:\\Users\\John\\Documents\\file.txt\n"
          ]
        }
      ],
      "source": [
        "#Using double \\ because \\ is an escape charecter in python, hence to print \\ we use \\\\\n",
        "print(\"C:\\\\Users\\\\John\\\\Documents\\\\file.txt\")"
      ]
    },
    {
      "cell_type": "markdown",
      "metadata": {
        "id": "vo5g066DO4TF"
      },
      "source": [
        "# Practise Sequence Operation And String Method"
      ]
    },
    {
      "cell_type": "markdown",
      "metadata": {
        "id": "6AzttNslO4TG"
      },
      "source": [
        "## Given the string s = \"PythonProgramming\", extract and print the first 6 characters."
      ]
    },
    {
      "cell_type": "code",
      "execution_count": null,
      "metadata": {
        "colab": {
          "base_uri": "https://localhost:8080/"
        },
        "id": "j7JNBeBTO4TG",
        "outputId": "d61500e7-d4d9-48c3-8baf-6ae7da45d7d6"
      },
      "outputs": [
        {
          "output_type": "stream",
          "name": "stdout",
          "text": [
            "Python\n"
          ]
        }
      ],
      "source": [
        "#Given\n",
        "s = \"PythonProgramming\"\n",
        "#I am using slice operator to extract - below syntax extracts from 0th index till 5th index (as it is the 6th position as we are counting from 0)\n",
        "s_extract = s[:6]\n",
        "print(s_extract)"
      ]
    },
    {
      "cell_type": "markdown",
      "metadata": {
        "id": "a3nfbgjkO4TG"
      },
      "source": [
        "## For the string s = \"PythonProgramming\", create a new string where the first and last characters have been exchanged."
      ]
    },
    {
      "cell_type": "code",
      "execution_count": null,
      "metadata": {
        "colab": {
          "base_uri": "https://localhost:8080/"
        },
        "id": "w_NAxoImO4TG",
        "outputId": "97e6c4a6-55ca-4269-aab7-1bb043489591"
      },
      "outputs": [
        {
          "output_type": "stream",
          "name": "stdout",
          "text": [
            "gythonProgramminP\n"
          ]
        }
      ],
      "source": [
        "#Given\n",
        "s = \"PythonProgramming\"\n",
        "#Using slice to extract last then second to second last element and first element\n",
        "#Using concatination to concatinate all the extracted string elements\n",
        "new_String = s[-1] + s[1:-1] + s[0]\n",
        "print(new_String)"
      ]
    },
    {
      "cell_type": "markdown",
      "metadata": {
        "id": "KNBBLTI1O4TG"
      },
      "source": [
        "## For the string s = \"PythonProgramming\", find and print the index of the first occurrence of the letter \"o\"."
      ]
    },
    {
      "cell_type": "code",
      "execution_count": null,
      "metadata": {
        "colab": {
          "base_uri": "https://localhost:8080/"
        },
        "id": "2HQKXZy8O4TG",
        "outputId": "59788dc4-7fd3-43b5-e081-bea9098c2a1c"
      },
      "outputs": [
        {
          "output_type": "stream",
          "name": "stdout",
          "text": [
            "First occurrence of 'o' is at index 4\n"
          ]
        }
      ],
      "source": [
        "#Given\n",
        "s = \"PythonProgramming\"\n",
        "#.index() method returns the first occurance of a charecter in a given string\n",
        "print(f\"First occurrence of 'o' is at index {s.index('o')}\")"
      ]
    },
    {
      "cell_type": "markdown",
      "metadata": {
        "id": "IEKL2DP1O4TG"
      },
      "source": [
        "## Given the string s = \"PythonProgramming\", create a new string where all occurrences of the letter \"o\" are replaced with the letter \"a\"."
      ]
    },
    {
      "cell_type": "code",
      "execution_count": null,
      "metadata": {
        "colab": {
          "base_uri": "https://localhost:8080/"
        },
        "id": "iRSEW5rfO4TG",
        "outputId": "12ebb057-bc6f-4738-fa3f-96cc16d20618"
      },
      "outputs": [
        {
          "output_type": "stream",
          "name": "stdout",
          "text": [
            "PythanPragramming\n"
          ]
        }
      ],
      "source": [
        "#Given\n",
        "s = \"PythonProgramming\"\n",
        "#we can use .replace() method to replace the charecters with another cahrecter\n",
        "new_Replace_Str = s.replace('o','a')\n",
        "print(new_Replace_Str)"
      ]
    },
    {
      "cell_type": "markdown",
      "metadata": {
        "id": "SPtmg_cFO4TG"
      },
      "source": [
        "## For the string s = \"PythonProgramming\", split the string into two equal halves. If the string has an odd length, the first half should have one more character than the second half."
      ]
    },
    {
      "cell_type": "code",
      "execution_count": null,
      "metadata": {
        "colab": {
          "base_uri": "https://localhost:8080/"
        },
        "id": "BqeruJu_O4TG",
        "outputId": "371e976e-adec-4ba2-c7ac-636e2729caf4"
      },
      "outputs": [
        {
          "output_type": "stream",
          "name": "stdout",
          "text": [
            "First half: PythonPro\n",
            "Second half: gramming\n"
          ]
        }
      ],
      "source": [
        "#Given\n",
        "s = \"PythonProgramming\"\n",
        "#Let's calculate length\n",
        "s_length = len(s)\n",
        "#checking if it is odd or even and then applying required condition\n",
        "\n",
        "if(s_length%2 == 0):\n",
        "  #If even -> both strings should be equal\n",
        "  print(f\"First half: {s[:s_length//2]}\")\n",
        "  print(f\"Second half: {s[s_length//2:]}\")\n",
        "else:\n",
        "  #if it is odd -> first half should have more charecter than second half\n",
        "  print(f\"First half: {s[:(s_length//2)+1]}\")\n",
        "  print(f\"Second half: {s[(s_length//2)+1:]}\")\n",
        "\n"
      ]
    },
    {
      "cell_type": "markdown",
      "metadata": {
        "id": "jcOMbpFyO4TG"
      },
      "source": [
        "## Given the string s = \"Python\", t = \"lool\", check if the string is a palindrome. A palindrome is a word, phrase, number, or other sequences of characters that reads the same forward and backward (ignoring spaces, punctuation, and capitalization)."
      ]
    },
    {
      "cell_type": "code",
      "execution_count": null,
      "metadata": {
        "colab": {
          "base_uri": "https://localhost:8080/"
        },
        "id": "9JomCjpUO4TG",
        "outputId": "f8680061-5794-4c2d-8795-c1f6a3ef68b4"
      },
      "outputs": [
        {
          "output_type": "stream",
          "name": "stdout",
          "text": [
            "is Python palindrome: False\n"
          ]
        }
      ],
      "source": [
        "#Given\n",
        "#for simplication i will create my own function called is_Palindrome\n",
        "def is_Palindrome(input_Str):\n",
        "  #As given in the question i have to ignore spaces, punctuation and capitalization\n",
        "  sanitzed_string = ''\n",
        "\n",
        "  for element in input_Str:\n",
        "    if element.isalnum():        # Checking if the character is alphanumeric\n",
        "      sanitzed_string += element.lower()   # Converting the character to lowercase and appending\n",
        "\n",
        "  #Checking palindrome\n",
        "  pal_result = (sanitzed_string == sanitzed_string[::-1]) #checks the string with reverse of string (str[::-1] is used to reverse a string)\n",
        "  print(f\"is {input_Str} palindrome: {pal_result}\")\n",
        "\n",
        "#Checking for s = \"Python\" , if it is a palindrome or not\n",
        "s = \"Python\"\n",
        "is_Palindrome(s)"
      ]
    },
    {
      "cell_type": "code",
      "execution_count": null,
      "metadata": {
        "colab": {
          "base_uri": "https://localhost:8080/"
        },
        "id": "0nZpD9xqO4TH",
        "outputId": "58109bbf-ebda-495c-fca5-ccee96a01a14"
      },
      "outputs": [
        {
          "output_type": "stream",
          "name": "stdout",
          "text": [
            "is lool palindrome: True\n"
          ]
        }
      ],
      "source": [
        "#Checking for t = \"lool\" , if it is a palindrome or not\n",
        "t = \"lool\"\n",
        "is_Palindrome(t)"
      ]
    },
    {
      "cell_type": "markdown",
      "metadata": {
        "id": "zthcbThyO4TH"
      },
      "source": [
        "# Practise Number"
      ]
    },
    {
      "cell_type": "markdown",
      "metadata": {
        "id": "hoiSRGqdO4TH"
      },
      "source": [
        "## Given two numbers a = 25 and b = 7, write a program to find the quotient and remainder when a is divided by b."
      ]
    },
    {
      "cell_type": "code",
      "execution_count": null,
      "metadata": {
        "colab": {
          "base_uri": "https://localhost:8080/"
        },
        "id": "lj0LRorDO4TH",
        "outputId": "67e93d3b-8028-4758-cb16-9692463078ea"
      },
      "outputs": [
        {
          "output_type": "stream",
          "name": "stdout",
          "text": [
            "Quotient: 3\n",
            "Remainder: 4\n"
          ]
        }
      ],
      "source": [
        "#writing a method that finds quotient and reminder\n",
        "def quotient_remainder_finder(a, b):\n",
        "  #Just to make sure the user inputs only numbers i am adding additional error checking\n",
        "  #Checking if inputs are numbers\n",
        "  #Reference -> https://www.w3schools.com/python/ref_func_isinstance.asp\n",
        "  if not (isinstance(a, (int, float)) and isinstance(b, (int, float))):\n",
        "    print(\"Error: Please provide valid numbers as inputs. A valid number is an integer or a float type\")\n",
        "    return\n",
        "\n",
        "  # Checking if divisor is zero, which shouldn't be allowed\n",
        "  if b == 0:\n",
        "    print(\"Error: You can't divide a number by 0\")\n",
        "    return\n",
        "\n",
        "  quotient = a//b\n",
        "  remainder = a%b\n",
        "  print(f\"Quotient: {quotient}\")\n",
        "  print(f\"Remainder: {remainder}\")\n",
        "\n",
        "#Finding for a = 25 and b = 7\n",
        "a = 25\n",
        "b = 7\n",
        "quotient_remainder_finder(a, b)"
      ]
    },
    {
      "cell_type": "markdown",
      "metadata": {
        "id": "FPylvzAmO4TH"
      },
      "source": [
        "## Check if a number n1 = 123, n2 = 122 are even or odd."
      ]
    },
    {
      "cell_type": "code",
      "execution_count": null,
      "metadata": {
        "colab": {
          "base_uri": "https://localhost:8080/"
        },
        "id": "GzN3oGzlO4TH",
        "outputId": "86a2df75-9990-47f7-8b0f-6398168dcf58"
      },
      "outputs": [
        {
          "output_type": "stream",
          "name": "stdout",
          "text": [
            "is 123 even: False\n"
          ]
        }
      ],
      "source": [
        "#Writing a function to check if a number is even or not\n",
        "def is_even(num):\n",
        "  #Checking if input is a number or not\n",
        "  if not isinstance(num, (int)):\n",
        "    print(\"Error: Please provide valid integer as input\")\n",
        "    return\n",
        "  #now logic to check even\n",
        "  res = (num%2 == 0) #this returns true if num%2 = 0 else false\n",
        "  print(f\"is {num} even: {res}\")\n",
        "\n",
        "#now checking if n1 = 123 is even or not\n",
        "n1 = 123\n",
        "is_even(n1)"
      ]
    },
    {
      "cell_type": "code",
      "execution_count": null,
      "metadata": {
        "colab": {
          "base_uri": "https://localhost:8080/"
        },
        "id": "NPqewUFgO4TH",
        "outputId": "93c12bc1-c9b3-49b0-c85e-d849b7511cf0"
      },
      "outputs": [
        {
          "output_type": "stream",
          "name": "stdout",
          "text": [
            "is 122 even: True\n"
          ]
        }
      ],
      "source": [
        "#now checking if n2 = 122 is even or not\n",
        "n2 = 122\n",
        "is_even(n2)"
      ]
    },
    {
      "cell_type": "markdown",
      "metadata": {
        "id": "W74ISqT6O4TH"
      },
      "source": [
        "### Given a number n = 4567, find the last two digits of the number"
      ]
    },
    {
      "cell_type": "code",
      "execution_count": null,
      "metadata": {
        "colab": {
          "base_uri": "https://localhost:8080/"
        },
        "id": "uSez7fzoO4TH",
        "outputId": "5030de49-07f1-4bb1-c3c0-d598015d1506"
      },
      "outputs": [
        {
          "output_type": "stream",
          "name": "stdout",
          "text": [
            "Last two digits: 67\n"
          ]
        }
      ],
      "source": [
        "#Given\n",
        "n = 4567\n",
        "#using modulus operator\n",
        "# doing modulus of 100 we get the last 2 digits\n",
        "last_two_digit = n%100\n",
        "print(f\"Last two digits: {last_two_digit}\")\n",
        "#There is one more way by which i can solve this problem\n",
        "#since we know to find any charecter range in a given string using slice operator\n",
        "#we can convert our given input number to string using str() method and then use slice on it\n",
        "#later we can convert the result to number by using int() method\n",
        "#Either way both the ways we get last two digits\n",
        "#modulus way is better as it has less space and time complexity\n"
      ]
    },
    {
      "cell_type": "markdown",
      "metadata": {
        "id": "KPmn6_PpO4TH"
      },
      "source": [
        "# Practise Formatting"
      ]
    },
    {
      "cell_type": "markdown",
      "metadata": {
        "id": "jhbmSrcxO4TH"
      },
      "source": [
        "## Given two variables name = \"Alice\" and age = 30, use an f-string to print the following message: \"Hello, my name is Alice and I am 30 years old.\""
      ]
    },
    {
      "cell_type": "code",
      "execution_count": null,
      "metadata": {
        "colab": {
          "base_uri": "https://localhost:8080/"
        },
        "id": "rS1FIQM9O4TH",
        "outputId": "75464060-2816-430e-b046-e96f0b51c6c1"
      },
      "outputs": [
        {
          "output_type": "stream",
          "name": "stdout",
          "text": [
            "Hello, my name is Alice and I am 30 years old.\n"
          ]
        }
      ],
      "source": [
        "#Given\n",
        "name = \"Alice\"\n",
        "age = 30\n",
        "\n",
        "#Logic to f-string the message\n",
        "print(f\"Hello, my name is {name} and I am {age} years old.\")"
      ]
    },
    {
      "cell_type": "markdown",
      "metadata": {
        "id": "EEabZTGPO4TH"
      },
      "source": [
        "## Given two variables hours = 5 and rate = 20, use an f-string to calculate and print the total pay. The message should be: \"For 5 hours of work at $20 per hour, you will earn $100.\""
      ]
    },
    {
      "cell_type": "code",
      "execution_count": null,
      "metadata": {
        "colab": {
          "base_uri": "https://localhost:8080/"
        },
        "id": "dps-TDiLO4TH",
        "outputId": "5803387e-3bd3-40d0-d880-ede152b837b6"
      },
      "outputs": [
        {
          "output_type": "stream",
          "name": "stdout",
          "text": [
            "For 5 hours of work at $20 per hour, you will earn $100.\n"
          ]
        }
      ],
      "source": [
        "#Given\n",
        "hours = 5\n",
        "rate = 20\n",
        "\n",
        "#calculating total pay\n",
        "total_pay = rate * hours\n",
        "\n",
        "print(f\"For {hours} hours of work at ${rate} per hour, you will earn ${total_pay}.\")\n"
      ]
    },
    {
      "cell_type": "markdown",
      "metadata": {
        "id": "FAWIDJyKO4TH"
      },
      "source": [
        "# Practise List"
      ]
    },
    {
      "cell_type": "markdown",
      "metadata": {
        "id": "99L_MXu-O4TH"
      },
      "source": [
        "## Given a list fruits = [\"apple\", \"banana\", \"cherry\"], add the fruit \"orange\" to the end of the list."
      ]
    },
    {
      "cell_type": "code",
      "execution_count": null,
      "metadata": {
        "colab": {
          "base_uri": "https://localhost:8080/"
        },
        "id": "9iR9KVK4O4TI",
        "outputId": "f0ac2077-1bfb-4af6-f4c1-69b53abd8c3b"
      },
      "outputs": [
        {
          "output_type": "stream",
          "name": "stdout",
          "text": [
            "['apple', 'banana', 'cherry', 'orange']\n"
          ]
        }
      ],
      "source": [
        "#Given\n",
        "fruits = [\"apple\", \"banana\", \"cherry\"]\n",
        "#adding \"orange\" at the end of list using append\n",
        "fruits.append(\"orange\")\n",
        "print(fruits)"
      ]
    },
    {
      "cell_type": "markdown",
      "metadata": {
        "id": "9__hDI2kO4TI"
      },
      "source": [
        "## Given a list colors = [\"red\", \"blue\", \"green\"], insert the color \"yellow\" at the second position."
      ]
    },
    {
      "cell_type": "code",
      "execution_count": null,
      "metadata": {
        "colab": {
          "base_uri": "https://localhost:8080/"
        },
        "id": "-U3GPN7RO4TI",
        "outputId": "d4817517-c21c-41c9-b734-0f4a36caa54e"
      },
      "outputs": [
        {
          "output_type": "stream",
          "name": "stdout",
          "text": [
            "['red', 'yellow', 'blue', 'green']\n"
          ]
        }
      ],
      "source": [
        "#Given\n",
        "colors = [\"red\", \"blue\", \"green\"]\n",
        "\n",
        "#Using insert() method of list to add an element at a specific index\n",
        "#Insert \"yellow\" at the second position\n",
        "colors.insert(1, \"yellow\")\n",
        "\n",
        "print(colors)\n"
      ]
    },
    {
      "cell_type": "markdown",
      "metadata": {
        "id": "WGLyUZRkO4TI"
      },
      "source": [
        "## Given a list items = [10, 20, 30, 40, 50], remove the third item from the list."
      ]
    },
    {
      "cell_type": "code",
      "execution_count": null,
      "metadata": {
        "colab": {
          "base_uri": "https://localhost:8080/"
        },
        "id": "xdq4ig6sO4TI",
        "outputId": "2fc3c8e5-8e34-48cf-a9b7-60b51a4cdee9"
      },
      "outputs": [
        {
          "output_type": "stream",
          "name": "stdout",
          "text": [
            "[10, 20, 40, 50]\n"
          ]
        }
      ],
      "source": [
        "#Given\n",
        "items = [10, 20, 30, 40, 50]\n",
        "\n",
        "#Using the pop() method to remove an element from a list\n",
        "items.pop(2)\n",
        "\n",
        "#we can also use remove method by finding the element at a specific index and passing it to remove method\n",
        "# like this -> items.remove(items[2]) , but this is a bit of work, where as pop() does it efficiently and also gives us the value removed\n",
        "\n",
        "print(items)"
      ]
    },
    {
      "cell_type": "markdown",
      "metadata": {
        "id": "KAK28-_rO4TI"
      },
      "source": [
        "## remove empty strings from the list of strings.\n",
        "    list1 = [”hello”, ””, ”python”, ”class”, ””, ”FE520”]"
      ]
    },
    {
      "cell_type": "code",
      "source": [
        "#Given\n",
        "list1 = [\"hello\", \"\", \"python\", \"class\", \"\", \"FE520\"]\n",
        "\n",
        "#Let's first itterate over the list and if item is not empty string then we will add it to list else remove\n",
        "for ele in list1.copy():\n",
        "  #list1.copy() ensures that we're iterating over a separate copy of the list,\n",
        "  #so modifying the original list1 won't interfere with the loop's iteration\n",
        "    if ele == \"\":\n",
        "        list1.remove(\"\")\n",
        "\n",
        "  #one more way to do it is by using list comprehension\n",
        "  #list1 = [ele for ele in list1 if ele != \"\"]\n",
        "\n",
        "print(list1)\n"
      ],
      "metadata": {
        "colab": {
          "base_uri": "https://localhost:8080/"
        },
        "id": "Al5Z32WAl4J0",
        "outputId": "6696bc35-5f89-4b09-aae6-96cadfbfcb31"
      },
      "execution_count": null,
      "outputs": [
        {
          "output_type": "stream",
          "name": "stdout",
          "text": [
            "['hello', 'python', 'class', 'FE520']\n"
          ]
        }
      ]
    },
    {
      "cell_type": "markdown",
      "metadata": {
        "id": "VI9e4R3lO4TI"
      },
      "source": [
        "## add new item to list after a specified item\n",
        "    list1 = [10, 20, [600, 700, [8000, 9000], 500], 50, 60]\n",
        "    The expected output is [10, 20, [600, 700, [8000, 9000, 999], 500], 50, 60"
      ]
    },
    {
      "cell_type": "code",
      "source": [
        "#Given\n",
        "list1 = [10, 20, [600, 700, [8000, 9000], 500], 50, 60]\n",
        "\n",
        "#we have to add 999 in 3rd elemnt of list , the third element itself is a list and we should put it in the last element (3rd element of the list) which itself is a list and append it at the end of it\n",
        "#we can use list index to access elements\n",
        "\n",
        "# Inserting 999 after 9000 in the nested list structure\n",
        "\n",
        "#lOGIC -> list1[2] gives access to the inner list [600, 700, [8000, 9000], 500].\n",
        "#list1[2][2] then gives me access the even more nested list [8000, 9000]\n",
        "list1[2][2].append(999)\n",
        "\n",
        "print(list1)"
      ],
      "metadata": {
        "colab": {
          "base_uri": "https://localhost:8080/"
        },
        "id": "g5inliZ0oA5t",
        "outputId": "039004c5-8996-4fa4-d731-2e6347af4ee7"
      },
      "execution_count": null,
      "outputs": [
        {
          "output_type": "stream",
          "name": "stdout",
          "text": [
            "[10, 20, [600, 700, [8000, 9000, 999], 500], 50, 60]\n"
          ]
        }
      ]
    },
    {
      "cell_type": "markdown",
      "metadata": {
        "id": "nv7nVTr8O4TJ"
      },
      "source": [
        "## List copy\n",
        "    list1 = [’a’, ’b’, ’c’, ’d’]\n",
        "    Use list1 to create another list with same elements list2 such that when we change\n",
        "    the first element of list2 from ’a’ to ’A’, the first element of list1 will not change\n",
        "    (i.e. it is still ’a’).\n",
        "    Show this process."
      ]
    },
    {
      "cell_type": "code",
      "source": [
        "# Given\n",
        "list1 = ['a', 'b', 'c', 'd']\n",
        "\n",
        "# Creating a new list (list2) that has a copy of list1 using copy()\n",
        "#Reference -> https://www.w3schools.com/python/ref_list_copy.asp\n",
        "list2 = list1.copy()\n",
        "\n",
        "# Modifying the first element of list2\n",
        "list2[0] = 'A'\n",
        "\n",
        "# Printing the lists to verify the prediction that changes made to list 2 wont affect list 1\n",
        "print(\"list1: \", list1)\n",
        "print(\"list2: \", list2)\n"
      ],
      "metadata": {
        "colab": {
          "base_uri": "https://localhost:8080/"
        },
        "id": "jlOKBIbMpGs3",
        "outputId": "0192e08c-1d95-42c1-8a5c-cc3e0b06370e"
      },
      "execution_count": null,
      "outputs": [
        {
          "output_type": "stream",
          "name": "stdout",
          "text": [
            "list1:  ['a', 'b', 'c', 'd']\n",
            "list2:  ['A', 'b', 'c', 'd']\n"
          ]
        }
      ]
    },
    {
      "cell_type": "markdown",
      "metadata": {
        "id": "3l-6yKvqO4TJ"
      },
      "source": [
        "## List copy\n",
        "    list1 = [’a’, ’b’, ’c’, ’d’]\n",
        "    Use list1 to create another list with same elements list2 such that when we change\n",
        "    the first element of list2 from ’a’ to ’A’, the first element of list1 will not change\n",
        "    (i.e. it is still ’a’).\n",
        "    For this time, use different way with the previous question.\n",
        "    Show this process."
      ]
    },
    {
      "cell_type": "code",
      "execution_count": null,
      "metadata": {
        "colab": {
          "base_uri": "https://localhost:8080/"
        },
        "id": "JoxvUHAQO4TJ",
        "outputId": "b2b7bc1d-cfd5-4543-ab61-dd5c25ea419c"
      },
      "outputs": [
        {
          "output_type": "stream",
          "name": "stdout",
          "text": [
            "list1: ['a', 'b', 'c', 'd']\n",
            "list2: ['A', 'b', 'c', 'd']\n"
          ]
        }
      ],
      "source": [
        "# Given\n",
        "list1 = ['a', 'b', 'c', 'd']\n",
        "\n",
        "# Creating a copy of list1 using slicing\n",
        "#Reference -> https://www.educative.io/answers/how-to-copy-a-list-in-python\n",
        "list2 = list1[:]\n",
        "\n",
        "# Modifying the first element of list2\n",
        "list2[0] = 'A'\n",
        "\n",
        "# Printing the lists to verify the prediction that changes made to list 2 wont affect list 1\n",
        "print(\"list1:\", list1)\n",
        "print(\"list2:\", list2)\n"
      ]
    }
  ],
  "metadata": {
    "kernelspec": {
      "display_name": "Python 3",
      "language": "python",
      "name": "python3"
    },
    "language_info": {
      "codemirror_mode": {
        "name": "ipython",
        "version": 3
      },
      "file_extension": ".py",
      "mimetype": "text/x-python",
      "name": "python",
      "nbconvert_exporter": "python",
      "pygments_lexer": "ipython3",
      "version": "3.8.5"
    },
    "toc": {
      "base_numbering": 1,
      "nav_menu": {},
      "number_sections": true,
      "sideBar": true,
      "skip_h1_title": false,
      "title_cell": "Table of Contents",
      "title_sidebar": "Contents",
      "toc_cell": true,
      "toc_position": {},
      "toc_section_display": true,
      "toc_window_display": true
    },
    "colab": {
      "provenance": [],
      "collapsed_sections": [
        "vo5g066DO4TF"
      ],
      "include_colab_link": true
    }
  },
  "nbformat": 4,
  "nbformat_minor": 0
}